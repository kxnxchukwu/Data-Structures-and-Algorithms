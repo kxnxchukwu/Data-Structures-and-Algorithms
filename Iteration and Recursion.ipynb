{
 "cells": [
  {
   "cell_type": "markdown",
   "metadata": {},
   "source": [
    "# Data Structures and Algorithms 1"
   ]
  },
  {
   "cell_type": "markdown",
   "metadata": {},
   "source": [
    "## Iteration & Recursion. \n",
    "\n",
    "### Iteration and recursion are _key Computer Science techniques used in creating algorithms and developing software_. In simple terms, an iterative function is one that loops to repeat some part of the code, and a recursive function is one that calls itself again to repeat the code."
   ]
  },
  {
   "cell_type": "code",
   "execution_count": 1,
   "metadata": {},
   "outputs": [],
   "source": [
    "def calculate_itr(n):\n",
    "    '''\n",
    "    Takes in a range n, returns the square of numbers in the range n\n",
    "    This is done iteratively.\n",
    "    '''\n",
    "    while n > 0:\n",
    "        k = n ** 2\n",
    "        print(k)\n",
    "        n = n - 1"
   ]
  },
  {
   "cell_type": "code",
   "execution_count": 2,
   "metadata": {},
   "outputs": [
    {
     "name": "stdout",
     "output_type": "stream",
     "text": [
      "16\n",
      "9\n",
      "4\n",
      "1\n"
     ]
    }
   ],
   "source": [
    "calculate_itr(4)"
   ]
  },
  {
   "cell_type": "code",
   "execution_count": 3,
   "metadata": {},
   "outputs": [],
   "source": [
    "def calculate_rec(n):\n",
    "    '''\n",
    "    Takes in a range n, returns the square of numbers in the range n\n",
    "    This is done recursively.\n",
    "    '''\n",
    "    if n > 0:\n",
    "        k = n ** 2\n",
    "        print(k)\n",
    "        calculate_rec(n - 1)"
   ]
  },
  {
   "cell_type": "code",
   "execution_count": 4,
   "metadata": {},
   "outputs": [
    {
     "name": "stdout",
     "output_type": "stream",
     "text": [
      "16\n",
      "9\n",
      "4\n",
      "1\n"
     ]
    }
   ],
   "source": [
    "calculate_rec(4)"
   ]
  },
  {
   "cell_type": "markdown",
   "metadata": {},
   "source": [
    "## Head and Tail Recursion"
   ]
  },
  {
   "cell_type": "markdown",
   "metadata": {},
   "source": [
    "### In head recursion, the recursive call, when it happens, comes before other processing in the function (think of it happening at the top, or head, of the function).\n",
    "\n",
    "### In tail recursion, it’s the opposite— the processing occurs before the recursive call. Choosing between the two recursive styles may seem arbitrary, but the choice can make all the difference."
   ]
  },
  {
   "cell_type": "markdown",
   "metadata": {},
   "source": [
    "#### Head Recursion"
   ]
  },
  {
   "cell_type": "code",
   "execution_count": 5,
   "metadata": {},
   "outputs": [],
   "source": [
    "def calculate(n):\n",
    "    if n > 0:\n",
    "        calculate(n - 1)\n",
    "        k = n ** 2\n",
    "        print(k)"
   ]
  },
  {
   "cell_type": "code",
   "execution_count": 6,
   "metadata": {},
   "outputs": [
    {
     "name": "stdout",
     "output_type": "stream",
     "text": [
      "1\n",
      "4\n",
      "9\n",
      "16\n"
     ]
    }
   ],
   "source": [
    "calculate(4)"
   ]
  },
  {
   "cell_type": "markdown",
   "metadata": {},
   "source": [
    "#### Tail Recursion"
   ]
  },
  {
   "cell_type": "code",
   "execution_count": 7,
   "metadata": {},
   "outputs": [],
   "source": [
    "def calculate(n):\n",
    "    if n > 0:\n",
    "        k = n ** 2\n",
    "        print(k)\n",
    "        calculate(n - 1)"
   ]
  },
  {
   "cell_type": "code",
   "execution_count": 8,
   "metadata": {},
   "outputs": [
    {
     "name": "stdout",
     "output_type": "stream",
     "text": [
      "16\n",
      "9\n",
      "4\n",
      "1\n"
     ]
    }
   ],
   "source": [
    "calculate(4)"
   ]
  },
  {
   "cell_type": "markdown",
   "metadata": {},
   "source": [
    "### Tree Recursion"
   ]
  },
  {
   "cell_type": "markdown",
   "metadata": {},
   "source": [
    "#### Tree Recursion is just a phrase to describe when you make a recursive call more than once in your recursive case."
   ]
  },
  {
   "cell_type": "code",
   "execution_count": 9,
   "metadata": {},
   "outputs": [],
   "source": [
    "def calculate(n):\n",
    "    if n > 0:\n",
    "        calculate(n - 1)\n",
    "        k = n ** 2\n",
    "        print(k)\n",
    "        calculate(n - 1)"
   ]
  },
  {
   "cell_type": "code",
   "execution_count": 10,
   "metadata": {},
   "outputs": [
    {
     "name": "stdout",
     "output_type": "stream",
     "text": [
      "1\n",
      "4\n",
      "1\n",
      "9\n",
      "1\n",
      "4\n",
      "1\n"
     ]
    }
   ],
   "source": [
    "calculate(3)"
   ]
  },
  {
   "cell_type": "markdown",
   "metadata": {},
   "source": [
    "### Indirect Recursion"
   ]
  },
  {
   "cell_type": "markdown",
   "metadata": {},
   "source": [
    "#### Indirect Recursion occurs when a function is called not by itself but by another function that it called (either directly or indirectly)"
   ]
  },
  {
   "cell_type": "code",
   "execution_count": null,
   "metadata": {},
   "outputs": [],
   "source": [
    "def calculateA(n):\n",
    "    if n > 0:\n",
    "        ...\n",
    "        calculateB(n - 1)\n",
    "        ...\n",
    "\n",
    "\n",
    "def calculateB(n):\n",
    "    if n > 0:\n",
    "        ...\n",
    "        calculateC(n - 1)\n",
    "        ...\n",
    "        \n",
    "def calculateC(n):\n",
    "    if n > 0:\n",
    "        ...\n",
    "        calculateA(n - 1)\n",
    "        ..."
   ]
  },
  {
   "cell_type": "markdown",
   "metadata": {},
   "source": [
    "### Sum of N Numbers using the Mathematical Formula"
   ]
  },
  {
   "cell_type": "code",
   "execution_count": 11,
   "metadata": {},
   "outputs": [],
   "source": [
    "def sumn(n):\n",
    "    return n * (n+1) / 2"
   ]
  },
  {
   "cell_type": "code",
   "execution_count": 12,
   "metadata": {},
   "outputs": [
    {
     "name": "stdout",
     "output_type": "stream",
     "text": [
      "Enter Number: 20\n",
      "210.0\n"
     ]
    }
   ],
   "source": [
    "num = input('Enter Number: ')\n",
    "n = int(num)\n",
    "print(sumn(n))"
   ]
  },
  {
   "cell_type": "markdown",
   "metadata": {},
   "source": [
    "### Sum of N Numbers using the Iteration"
   ]
  },
  {
   "cell_type": "markdown",
   "metadata": {},
   "source": [
    "#### Using While Loop"
   ]
  },
  {
   "cell_type": "code",
   "execution_count": 13,
   "metadata": {},
   "outputs": [],
   "source": [
    "def sum_itr(n):\n",
    "    total = 0\n",
    "    i = 1\n",
    "    while i <= n:\n",
    "        total = total + i\n",
    "        i = i + 1\n",
    "    return total"
   ]
  },
  {
   "cell_type": "code",
   "execution_count": 14,
   "metadata": {},
   "outputs": [
    {
     "name": "stdout",
     "output_type": "stream",
     "text": [
      "Enter Number: 20\n",
      "210\n"
     ]
    }
   ],
   "source": [
    "num = input('Enter Number: ')\n",
    "n = int(num)\n",
    "print(sum_itr(n))"
   ]
  },
  {
   "cell_type": "markdown",
   "metadata": {},
   "source": [
    "#### Using For Loop"
   ]
  },
  {
   "cell_type": "code",
   "execution_count": 15,
   "metadata": {},
   "outputs": [],
   "source": [
    "def sum_itr1(n):\n",
    "    total = 0\n",
    "    for i in range(1,n+1):\n",
    "        total = total + i\n",
    "    return total"
   ]
  },
  {
   "cell_type": "code",
   "execution_count": 16,
   "metadata": {},
   "outputs": [
    {
     "name": "stdout",
     "output_type": "stream",
     "text": [
      "Enter Number: 20\n",
      "210\n"
     ]
    }
   ],
   "source": [
    "num = input('Enter Number: ')\n",
    "n = int(num)\n",
    "print(sum_itr1(n))"
   ]
  },
  {
   "cell_type": "markdown",
   "metadata": {},
   "source": [
    "### Sum of N Numbers using the Recursion"
   ]
  },
  {
   "cell_type": "code",
   "execution_count": 17,
   "metadata": {},
   "outputs": [],
   "source": [
    "def sum_rec(n):\n",
    "    if n == 0:\n",
    "        return 0\n",
    "    return sum_rec(n-1) + n"
   ]
  },
  {
   "cell_type": "code",
   "execution_count": 18,
   "metadata": {},
   "outputs": [
    {
     "name": "stdout",
     "output_type": "stream",
     "text": [
      "Enter Number: 20\n",
      "210\n"
     ]
    }
   ],
   "source": [
    "num = input('Enter Number: ')\n",
    "n = int(num)\n",
    "print(sum_rec(n))"
   ]
  }
 ],
 "metadata": {
  "kernelspec": {
   "display_name": "Python 3",
   "language": "python",
   "name": "python3"
  },
  "language_info": {
   "codemirror_mode": {
    "name": "ipython",
    "version": 3
   },
   "file_extension": ".py",
   "mimetype": "text/x-python",
   "name": "python",
   "nbconvert_exporter": "python",
   "pygments_lexer": "ipython3",
   "version": "3.7.6"
  }
 },
 "nbformat": 4,
 "nbformat_minor": 4
}
