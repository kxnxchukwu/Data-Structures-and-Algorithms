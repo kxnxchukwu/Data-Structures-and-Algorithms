{
 "cells": [
  {
   "cell_type": "markdown",
   "metadata": {},
   "source": [
    "# Data Structures and Algorithms 2"
   ]
  },
  {
   "cell_type": "markdown",
   "metadata": {},
   "source": [
    "## Search Algorithms"
   ]
  },
  {
   "cell_type": "markdown",
   "metadata": {},
   "source": [
    "### Linear Search"
   ]
  },
  {
   "cell_type": "code",
   "execution_count": 1,
   "metadata": {},
   "outputs": [],
   "source": [
    "def linearsearch(A, key):\n",
    "    '''\n",
    "    This function takes in a list and a key to find in the list, \n",
    "    returns the index of the key if it is found in the list or -1 when it is not found  \n",
    "    '''\n",
    "    index = 0\n",
    "    while index < len(A):\n",
    "        if A[index] == key :\n",
    "            return index\n",
    "        index = index + 1\n",
    "    return -1"
   ]
  },
  {
   "cell_type": "code",
   "execution_count": 2,
   "metadata": {},
   "outputs": [
    {
     "name": "stdout",
     "output_type": "stream",
     "text": [
      "Result: 3\n"
     ]
    }
   ],
   "source": [
    "A = [84, 21, 47, 96, 15]\n",
    "found = linearsearch(A, 96)\n",
    "print('Result:',found)"
   ]
  },
  {
   "cell_type": "code",
   "execution_count": 3,
   "metadata": {},
   "outputs": [
    {
     "name": "stdout",
     "output_type": "stream",
     "text": [
      "Result: -1\n"
     ]
    }
   ],
   "source": [
    "A = [84, 21, 47, 96, 15]\n",
    "found = linearsearch(A, 20)\n",
    "print('Result:',found)"
   ]
  },
  {
   "cell_type": "markdown",
   "metadata": {},
   "source": [
    "### Binary Search Using Iteration"
   ]
  },
  {
   "cell_type": "code",
   "execution_count": 4,
   "metadata": {},
   "outputs": [],
   "source": [
    "def binarysearch_iterative(A, key):\n",
    "    '''\n",
    "    This function takes in a list and a key to find in the list, \n",
    "    returns the index of the key if it is found in the list or -1 when it is not found\n",
    "    The list in Binary Search has to be sorted.\n",
    "    '''\n",
    "    l = 0\n",
    "    r = len(A)-1\n",
    "    while l <= r:\n",
    "        mid = (l + r) // 2\n",
    "        if key == A[mid]:\n",
    "            return mid\n",
    "        elif key < A[mid]:\n",
    "            r = mid - 1\n",
    "        elif key > A[mid]:\n",
    "            l = mid + 1\n",
    "    return -1"
   ]
  },
  {
   "cell_type": "code",
   "execution_count": 5,
   "metadata": {},
   "outputs": [
    {
     "name": "stdout",
     "output_type": "stream",
     "text": [
      "Result:  1\n"
     ]
    }
   ],
   "source": [
    "A = [15,21,47,84,96]\n",
    "found = binarysearch_iterative(A,21)\n",
    "print('Result: ',found)"
   ]
  },
  {
   "cell_type": "code",
   "execution_count": 6,
   "metadata": {},
   "outputs": [
    {
     "name": "stdout",
     "output_type": "stream",
     "text": [
      "Result:  -1\n"
     ]
    }
   ],
   "source": [
    "A = [15,21,47,84,96]\n",
    "found = binarysearch_iterative(A,20)\n",
    "print('Result: ',found)"
   ]
  },
  {
   "cell_type": "markdown",
   "metadata": {},
   "source": [
    "### Binary Search Using Recursion"
   ]
  },
  {
   "cell_type": "code",
   "execution_count": 7,
   "metadata": {},
   "outputs": [],
   "source": [
    "def binaryseaarch_recursive(A, key, l, r):\n",
    "    '''\n",
    "    This function takes in a list, a key to find in the list, and the left most and right most position in the list\n",
    "    returns the index of the key if it is found in the list or -1 when it is not found\n",
    "    The list in Binary Search has to be sorted.\n",
    "    '''\n",
    "    if l > r:\n",
    "        return -1\n",
    "    else:\n",
    "        mid = (l + r) // 2\n",
    "        if key == A[mid]:\n",
    "            return mid\n",
    "        elif key < A[mid]:\n",
    "            return binaryseaarch_recursive(A,key,l,mid-1)\n",
    "        elif key > A[mid]:\n",
    "            return binaryseaarch_recursive(A,key,mid+1,r)"
   ]
  },
  {
   "cell_type": "code",
   "execution_count": 8,
   "metadata": {},
   "outputs": [
    {
     "name": "stdout",
     "output_type": "stream",
     "text": [
      "Result: 4\n"
     ]
    }
   ],
   "source": [
    "A = [15, 21, 47, 84, 96]\n",
    "found = binaryseaarch_recursive(A,96,0,4)\n",
    "print('Result:', found)"
   ]
  },
  {
   "cell_type": "code",
   "execution_count": 9,
   "metadata": {},
   "outputs": [
    {
     "name": "stdout",
     "output_type": "stream",
     "text": [
      "Result: -1\n"
     ]
    }
   ],
   "source": [
    "A = [15, 21, 47, 84, 96]\n",
    "found = binaryseaarch_recursive(A,17,0,4)\n",
    "print('Result:', found)"
   ]
  }
 ],
 "metadata": {
  "kernelspec": {
   "display_name": "Python 3",
   "language": "python",
   "name": "python3"
  },
  "language_info": {
   "codemirror_mode": {
    "name": "ipython",
    "version": 3
   },
   "file_extension": ".py",
   "mimetype": "text/x-python",
   "name": "python",
   "nbconvert_exporter": "python",
   "pygments_lexer": "ipython3",
   "version": "3.7.6"
  }
 },
 "nbformat": 4,
 "nbformat_minor": 4
}
