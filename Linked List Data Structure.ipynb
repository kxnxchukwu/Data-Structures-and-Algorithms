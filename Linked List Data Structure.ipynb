{
 "cells": [
  {
   "cell_type": "markdown",
   "metadata": {},
   "source": [
    "# Linked List Data Structure"
   ]
  },
  {
   "cell_type": "markdown",
   "metadata": {},
   "source": [
    "### A linked list is a linear data structure, in which the elements are not stored at contiguous memory locations. The elements in a linked list are linked using pointers as shown in the below image"
   ]
  },
  {
   "cell_type": "code",
   "execution_count": 1,
   "metadata": {},
   "outputs": [
    {
     "data": {
      "image/png": "[encoded data removed]",
      "text/plain": [
       "<IPython.core.display.Image object>"
      ]
     },
     "execution_count": 1,
     "metadata": {},
     "output_type": "execute_result"
    }
   ],
   "source": [
    "from IPython.display import Image\n",
    "Image(filename='Linkedlist.png')"
   ]
  },
  {
   "cell_type": "markdown",
   "metadata": {},
   "source": [
    "## Create Node and Linked List Class"
   ]
  },
  {
   "cell_type": "code",
   "execution_count": 2,
   "metadata": {},
   "outputs": [],
   "source": [
    "class _Node:\n",
    "    __slots__ = '_element', '_next'\n",
    "\n",
    "    def __init__(self, element, next):\n",
    "        self._element = element\n",
    "        self._next = next\n",
    "\n",
    "class LinkedList:\n",
    "    \n",
    "    # Constructor\n",
    "    def __init__(self):\n",
    "        self._head = None\n",
    "        self._tail = None\n",
    "        self._size = 0\n",
    "\n",
    "    # Method to Check the Length of the Linked List\n",
    "    def __len__(self):\n",
    "        return self._size\n",
    "\n",
    "    # Method to Check if Linked List is Empty\n",
    "    def isempty(self):\n",
    "        return self._size == 0\n",
    "\n",
    "    def addlast(self, e):\n",
    "        newest = _Node(e, None)\n",
    "        if self.isempty():\n",
    "            self._head = newest\n",
    "        else:\n",
    "            self._tail._next = newest\n",
    "        self._tail = newest\n",
    "        self._size += 1\n",
    "\n",
    "    # Method to Display the Linked List\n",
    "    def display(self):\n",
    "        p = self._head\n",
    "        while p:\n",
    "            print(p._element,end=' --> ')\n",
    "            p = p._next\n",
    "        print()\n",
    "    \n",
    "    # Method to Search Linked List\n",
    "    def search(self,key):\n",
    "        p = self._head\n",
    "        index = 0\n",
    "        while p:\n",
    "            if p._element == key:\n",
    "                return index\n",
    "            p = p._next\n",
    "            index += 1\n",
    "        return -1\n",
    "\n",
    "    # Method to Add an Element at the beginning of the Linked List\n",
    "    def addfirst(self, e):\n",
    "        newest = _Node(e, None)\n",
    "        if self.isempty():\n",
    "            self._head = newest\n",
    "            self._tail = newest\n",
    "        else:\n",
    "            newest._next = self._head\n",
    "            self._head = newest\n",
    "        self._size += 1\n",
    "    \n",
    "    # Method to Add an Element at anywhere in the Linked List\n",
    "    def addany(self, e, position):\n",
    "        newest = _Node(e, None)\n",
    "        p = self._head\n",
    "        i = 1\n",
    "        while i < position-1:\n",
    "            p = p._next\n",
    "            i = i + 1\n",
    "        newest._next = p._next\n",
    "        p._next = newest\n",
    "        self._size += 1\n",
    "\n",
    "    # Method to Remove an Element at the Beginning of the Linked List\n",
    "    def removefirst(self):\n",
    "        if self.isempty():\n",
    "            print('List is empty')\n",
    "            return\n",
    "        e = self._head._element\n",
    "        self._head = self._head._next\n",
    "        self._size -= 1\n",
    "        if self.isempty():\n",
    "            self._tail = None\n",
    "        return e\n",
    "    \n",
    "    # Method to Remove an Element at the End of the Linked List\n",
    "    def removelast(self):\n",
    "        if self.isempty():\n",
    "            print('List is empty')\n",
    "            return\n",
    "        p = self._head\n",
    "        i = 1\n",
    "        while i < len(self) - 1:\n",
    "            p = p._next\n",
    "            i = i + 1\n",
    "        self._tail = p\n",
    "        p = p._next\n",
    "        e = p._element\n",
    "        self._tail._next = None\n",
    "        self._size -= 1\n",
    "        return e\n",
    "    \n",
    "    # Method to Remove an Element anywhere in the Linked List\n",
    "    def removeany(self, position):\n",
    "        p = self._head\n",
    "        i = 1\n",
    "        while i < position - 1:\n",
    "            p = p._next\n",
    "            i = i + 1\n",
    "        e = p._next._element\n",
    "        p._next = p._next._next\n",
    "        self._size -= 1\n",
    "        return e"
   ]
  },
  {
   "cell_type": "markdown",
   "metadata": {},
   "source": [
    "### Create and Display Linked List"
   ]
  },
  {
   "cell_type": "code",
   "execution_count": 3,
   "metadata": {},
   "outputs": [
    {
     "name": "stdout",
     "output_type": "stream",
     "text": [
      "7 --> 4 --> 12 --> 8 --> 3 --> \n",
      "Size: 5\n"
     ]
    }
   ],
   "source": [
    "L = LinkedList()\n",
    "L.addlast(7)\n",
    "L.addlast(4)\n",
    "L.addlast(12)\n",
    "L.addlast(8)\n",
    "L.addlast(3)\n",
    "L.display()\n",
    "print('Size:',len(L))"
   ]
  },
  {
   "cell_type": "markdown",
   "metadata": {},
   "source": [
    "### Create Linked List and Search for Element in Linked List"
   ]
  },
  {
   "cell_type": "code",
   "execution_count": 4,
   "metadata": {},
   "outputs": [
    {
     "name": "stdout",
     "output_type": "stream",
     "text": [
      "7 --> 4 --> 12 --> 8 --> 3 --> \n",
      "Result: 3\n",
      "Result: -1\n"
     ]
    }
   ],
   "source": [
    "L = LinkedList()\n",
    "L.addlast(7)\n",
    "L.addlast(4)\n",
    "L.addlast(12)\n",
    "L.addlast(8)\n",
    "L.addlast(3)\n",
    "L.display()\n",
    "i = L.search(8)\n",
    "print('Result:',i)\n",
    "index = L.search(20)\n",
    "print('Result:',index)"
   ]
  },
  {
   "cell_type": "markdown",
   "metadata": {},
   "source": [
    "### Using Add First Method to add an Element at the beginning of a Linked List"
   ]
  },
  {
   "cell_type": "code",
   "execution_count": 5,
   "metadata": {},
   "outputs": [
    {
     "name": "stdout",
     "output_type": "stream",
     "text": [
      "7 --> 4 --> 12 --> 8 --> 3 --> \n",
      "Size: 5\n",
      "15 --> 7 --> 4 --> 12 --> 8 --> 3 --> \n",
      "Size: 6\n",
      "25 --> 15 --> 7 --> 4 --> 12 --> 8 --> 3 --> \n",
      "Size: 7\n",
      "25 --> 15 --> 7 --> 4 --> 12 --> 8 --> 3 --> 35 --> \n",
      "Size: 8\n"
     ]
    }
   ],
   "source": [
    "L = LinkedList()\n",
    "L.addlast(7)\n",
    "L.addlast(4)\n",
    "L.addlast(12)\n",
    "L.addlast(8)\n",
    "L.addlast(3)\n",
    "L.display()\n",
    "print('Size:',len(L))\n",
    "L.addfirst(15)\n",
    "L.display()\n",
    "print('Size:',len(L))\n",
    "L.addfirst(25)\n",
    "L.display()\n",
    "print('Size:',len(L))\n",
    "L.addlast(35)\n",
    "L.display()\n",
    "print('Size:',len(L))"
   ]
  },
  {
   "cell_type": "markdown",
   "metadata": {},
   "source": [
    "### Using Add Any Method to add an Element at any postion in the a Linked List"
   ]
  },
  {
   "cell_type": "code",
   "execution_count": 6,
   "metadata": {},
   "outputs": [
    {
     "name": "stdout",
     "output_type": "stream",
     "text": [
      "7 --> 4 --> 12 --> 8 --> 3 --> \n",
      "Size: 5\n",
      "7 --> 4 --> 20 --> 12 --> 8 --> 3 --> \n",
      "Size: 6\n",
      "7 --> 4 --> 20 --> 12 --> 40 --> 8 --> 3 --> \n",
      "Size: 7\n"
     ]
    }
   ],
   "source": [
    "L = LinkedList()\n",
    "L.addlast(7)\n",
    "L.addlast(4)\n",
    "L.addlast(12)\n",
    "L.addlast(8)\n",
    "L.addlast(3)\n",
    "L.display()\n",
    "print('Size:',len(L))\n",
    "L.addany(20,3)\n",
    "L.display()\n",
    "print('Size:',len(L))\n",
    "L.addany(40,5)\n",
    "L.display()\n",
    "print('Size:',len(L))"
   ]
  },
  {
   "cell_type": "markdown",
   "metadata": {},
   "source": [
    "### Using Remove First Method to remove an Element at the beginning of the Linked List"
   ]
  },
  {
   "cell_type": "code",
   "execution_count": 7,
   "metadata": {},
   "outputs": [
    {
     "name": "stdout",
     "output_type": "stream",
     "text": [
      "7 --> 4 --> 12 --> 8 --> 3 --> \n",
      "Size: 5\n",
      "4 --> 12 --> 8 --> 3 --> \n",
      "Size: 4\n",
      "Element Removed: 7\n"
     ]
    }
   ],
   "source": [
    "L = LinkedList()\n",
    "L.addlast(7)\n",
    "L.addlast(4)\n",
    "L.addlast(12)\n",
    "L.addlast(8)\n",
    "L.addlast(3)\n",
    "L.display()\n",
    "print('Size:',len(L))\n",
    "ele = L.removefirst()\n",
    "L.display()\n",
    "print('Size:',len(L))\n",
    "print('Element Removed:',ele)"
   ]
  },
  {
   "cell_type": "markdown",
   "metadata": {},
   "source": [
    "### Using Remove First Method to remove an Element at the end of the Linked List"
   ]
  },
  {
   "cell_type": "code",
   "execution_count": 8,
   "metadata": {},
   "outputs": [
    {
     "name": "stdout",
     "output_type": "stream",
     "text": [
      "7 --> 4 --> 12 --> 8 --> 3 --> \n",
      "Size: 5\n",
      "7 --> 4 --> 12 --> 8 --> \n",
      "Size: 4\n",
      "Element Removed 3\n"
     ]
    }
   ],
   "source": [
    "L = LinkedList()\n",
    "L.addlast(7)\n",
    "L.addlast(4)\n",
    "L.addlast(12)\n",
    "L.addlast(8)\n",
    "L.addlast(3)\n",
    "L.display()\n",
    "print('Size:',len(L))\n",
    "ele = L.removelast()\n",
    "L.display()\n",
    "print('Size:',len(L))\n",
    "print('Element Removed',ele)"
   ]
  },
  {
   "cell_type": "markdown",
   "metadata": {},
   "source": [
    "### Using Remove Any Method to remove elements anywhere in the Linked List"
   ]
  },
  {
   "cell_type": "code",
   "execution_count": 9,
   "metadata": {},
   "outputs": [
    {
     "name": "stdout",
     "output_type": "stream",
     "text": [
      "7 --> 4 --> 12 --> 8 --> 3 --> \n",
      "Size: 5\n",
      "7 --> 4 --> 8 --> 3 --> \n",
      "Size: 4\n",
      "Removed Element: 12\n"
     ]
    }
   ],
   "source": [
    "L = LinkedList()\n",
    "L.addlast(7)\n",
    "L.addlast(4)\n",
    "L.addlast(12)\n",
    "L.addlast(8)\n",
    "L.addlast(3)\n",
    "L.display()\n",
    "print('Size:',len(L))\n",
    "ele = L.removeany(3)\n",
    "L.display()\n",
    "print('Size:',len(L))\n",
    "print('Removed Element:',ele)"
   ]
  }
 ],
 "metadata": {
  "kernelspec": {
   "display_name": "Python 3",
   "language": "python",
   "name": "python3"
  },
  "language_info": {
   "codemirror_mode": {
    "name": "ipython",
    "version": 3
   },
   "file_extension": ".py",
   "mimetype": "text/x-python",
   "name": "python",
   "nbconvert_exporter": "python",
   "pygments_lexer": "ipython3",
   "version": "3.7.6"
  }
 },
 "nbformat": 4,
 "nbformat_minor": 4
}
