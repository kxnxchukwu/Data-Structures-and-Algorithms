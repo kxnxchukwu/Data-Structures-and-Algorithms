{
 "cells": [
  {
   "cell_type": "markdown",
   "metadata": {},
   "source": [
    "# Circular Linked List Data Structure"
   ]
  },
  {
   "cell_type": "markdown",
   "metadata": {},
   "source": [
    "### Circular linked list is a linked list where all nodes are connected to form a circle. There is no NULL at the end. A circular linked list can be a singly circular linked list or doubly circular linked list. An example of a circular linked list is shown in the below image"
   ]
  },
  {
   "cell_type": "code",
   "execution_count": 1,
   "metadata": {},
   "outputs": [
    {
     "data": {
      "image/png": "[encoded data removed]",
      "text/plain": [
       "<IPython.core.display.Image object>"
      ]
     },
     "execution_count": 1,
     "metadata": {},
     "output_type": "execute_result"
    }
   ],
   "source": [
    "from IPython.display import Image\n",
    "Image(filename='CircularLinkeList.png')"
   ]
  },
  {
   "cell_type": "markdown",
   "metadata": {},
   "source": [
    "## Create Node and Circular Linked List Class"
   ]
  },
  {
   "cell_type": "code",
   "execution_count": 2,
   "metadata": {},
   "outputs": [],
   "source": [
    "class _Node:\n",
    "    __slots__ = '_element', '_next'\n",
    "\n",
    "    def __init__(self, element, next):\n",
    "        self._element = element\n",
    "        self._next = next\n",
    "\n",
    "class CircularLinkedList:\n",
    "    def __init__(self):\n",
    "        self._head = None\n",
    "        self._tail = None\n",
    "        self._size = 0\n",
    "\n",
    "    def __len__(self):\n",
    "        return self._size\n",
    "\n",
    "    def isempty(self):\n",
    "        return self._size == 0\n",
    "\n",
    "    def addlast(self, e):\n",
    "        newest = _Node(e, None)\n",
    "        if self.isempty():\n",
    "            newest._next = newest\n",
    "            self._head = newest\n",
    "        else:\n",
    "            newest._next = self._tail._next\n",
    "            self._tail._next = newest\n",
    "        self._tail = newest\n",
    "        self._size += 1\n",
    "\n",
    "    def addfirst(self,e):\n",
    "        newest = _Node(e, None)\n",
    "        if self.isempty():\n",
    "            newest._next = newest\n",
    "            self._head = newest\n",
    "            self._tail = newest\n",
    "        else:\n",
    "            self._tail._next = newest\n",
    "            newest._next = self._head\n",
    "            self._head = newest\n",
    "        self._size += 1\n",
    "\n",
    "    def addany(self, e, position):\n",
    "        newest = _Node(e, None)\n",
    "        p = self._head\n",
    "        i = 1\n",
    "        while i < position - 1:\n",
    "            p = p._next\n",
    "            i = i + 1\n",
    "        newest._next = p._next\n",
    "        p._next = newest\n",
    "        self._size += 1\n",
    "\n",
    "    def removefirst(self):\n",
    "        if self.isempty():\n",
    "            print('List is empty')\n",
    "            return\n",
    "        e = self._head._element\n",
    "        self._tail._next = self._head._next\n",
    "        self._head = self._head._next\n",
    "        self._size -= 1\n",
    "        if self.isempty():\n",
    "            self._head = None\n",
    "            self._tail = None\n",
    "        return e\n",
    "\n",
    "    def removelast(self):\n",
    "        if self.isempty():\n",
    "            print('List is empty')\n",
    "            return\n",
    "        p = self._head\n",
    "        i = 1\n",
    "        while i < len(self) - 1:\n",
    "            p = p._next\n",
    "            i = i + 1\n",
    "        self._tail = p\n",
    "        self._tail._next = self._head\n",
    "        p = p._next\n",
    "        e = p._element\n",
    "        self._size -= 1\n",
    "        return e\n",
    "\n",
    "    def removeany(self, position):\n",
    "        p = self._head\n",
    "        i = 1\n",
    "        while i < position - 1:\n",
    "            p = p._next\n",
    "            i = i + 1\n",
    "        e = p._next._element\n",
    "        p._next = p._next._next\n",
    "        self._size -= 1\n",
    "        return e\n",
    "\n",
    "    def display(self):\n",
    "        p = self._head\n",
    "        i = 0\n",
    "        while i < len(self):\n",
    "            print(p._element,end='-->')\n",
    "            p = p._next\n",
    "            i += 1\n",
    "        print()\n",
    "\n",
    "    def search(self,key):\n",
    "        p = self._head\n",
    "        index = 0\n",
    "        while index < len(self):\n",
    "            if p._element == key:\n",
    "                return index\n",
    "            p = p._next\n",
    "            index = index + 1\n",
    "        return -1"
   ]
  },
  {
   "cell_type": "markdown",
   "metadata": {},
   "source": [
    "### Create and Display Circular Linked List"
   ]
  },
  {
   "cell_type": "code",
   "execution_count": 3,
   "metadata": {},
   "outputs": [
    {
     "name": "stdout",
     "output_type": "stream",
     "text": [
      "7-->4-->12-->\n",
      "Size: 3\n",
      "7-->4-->12-->8-->3-->\n",
      "Size: 5\n"
     ]
    }
   ],
   "source": [
    "C = CircularLinkedList()\n",
    "C.addlast(7)\n",
    "C.addlast(4)\n",
    "C.addlast(12)\n",
    "C.display()\n",
    "print('Size:',len(C))\n",
    "C.addlast(8)\n",
    "C.addlast(3)\n",
    "C.display()\n",
    "print('Size:',len(C))"
   ]
  },
  {
   "cell_type": "markdown",
   "metadata": {},
   "source": [
    "### Using Add First Method to add an Element at the beginning of a Circular Linked List"
   ]
  },
  {
   "cell_type": "code",
   "execution_count": 4,
   "metadata": {},
   "outputs": [
    {
     "name": "stdout",
     "output_type": "stream",
     "text": [
      "7-->4-->12-->8-->3-->\n",
      "Size: 5\n",
      "25-->7-->4-->12-->8-->3-->\n",
      "Size: 6\n"
     ]
    }
   ],
   "source": [
    "C = CircularLinkedList()\n",
    "C.addlast(7)\n",
    "C.addlast(4)\n",
    "C.addlast(12)\n",
    "C.addlast(8)\n",
    "C.addlast(3)\n",
    "C.display()\n",
    "print('Size:',len(C))\n",
    "C.addfirst(25)\n",
    "C.display()\n",
    "print('Size:',len(C))"
   ]
  },
  {
   "cell_type": "markdown",
   "metadata": {},
   "source": [
    "### Using Add Any Method to add an Element at any postion in the a Circular Linked List"
   ]
  },
  {
   "cell_type": "code",
   "execution_count": 5,
   "metadata": {},
   "outputs": [
    {
     "name": "stdout",
     "output_type": "stream",
     "text": [
      "7-->4-->12-->8-->3-->\n",
      "Size: 5\n",
      "7-->4-->25-->12-->8-->3-->\n",
      "Size: 6\n"
     ]
    }
   ],
   "source": [
    "C = CircularLinkedList()\n",
    "C.addlast(7)\n",
    "C.addlast(4)\n",
    "C.addlast(12)\n",
    "C.addlast(8)\n",
    "C.addlast(3)\n",
    "C.display()\n",
    "print('Size:',len(C))\n",
    "C.addany(25,3)\n",
    "C.display()\n",
    "print('Size:',len(C))"
   ]
  },
  {
   "cell_type": "markdown",
   "metadata": {},
   "source": [
    "### Using Remove First Method to remove an Element at the beginning of the Circular Linked List"
   ]
  },
  {
   "cell_type": "code",
   "execution_count": 6,
   "metadata": {},
   "outputs": [
    {
     "name": "stdout",
     "output_type": "stream",
     "text": [
      "7-->4-->12-->8-->3-->\n",
      "Size: 5\n",
      "4-->12-->8-->3-->\n",
      "Size: 4\n",
      "Removed Element: 7\n"
     ]
    }
   ],
   "source": [
    "C = CircularLinkedList()\n",
    "C.addlast(7)\n",
    "C.addlast(4)\n",
    "C.addlast(12)\n",
    "C.addlast(8)\n",
    "C.addlast(3)\n",
    "C.display()\n",
    "print('Size:',len(C))\n",
    "ele = C.removefirst()\n",
    "C.display()\n",
    "print('Size:',len(C))\n",
    "print('Removed Element:',ele)"
   ]
  },
  {
   "cell_type": "markdown",
   "metadata": {},
   "source": [
    "### Using Remove Last Method to remove an Element at the end of the Circular Linked List"
   ]
  },
  {
   "cell_type": "code",
   "execution_count": 7,
   "metadata": {},
   "outputs": [
    {
     "name": "stdout",
     "output_type": "stream",
     "text": [
      "7-->4-->12-->8-->3-->\n",
      "Size: 5\n",
      "7-->4-->12-->8-->\n",
      "Size: 4\n",
      "Removed Element: 7\n"
     ]
    }
   ],
   "source": [
    "C = CircularLinkedList()\n",
    "C.addlast(7)\n",
    "C.addlast(4)\n",
    "C.addlast(12)\n",
    "C.addlast(8)\n",
    "C.addlast(3)\n",
    "C.display()\n",
    "print('Size:',len(C))\n",
    "ele = C.removelast()\n",
    "C.display()\n",
    "print('Size:',len(C))\n",
    "print('Removed Element:',ele)"
   ]
  },
  {
   "cell_type": "markdown",
   "metadata": {},
   "source": [
    "### Using Remove Any Method to remove elements anywhere in the Circular Linked List"
   ]
  },
  {
   "cell_type": "code",
   "execution_count": 8,
   "metadata": {},
   "outputs": [
    {
     "name": "stdout",
     "output_type": "stream",
     "text": [
      "7-->4-->12-->8-->3-->\n",
      "Size: 5\n",
      "7-->4-->8-->3-->\n",
      "Size: 4\n",
      "Removed Element: 12\n"
     ]
    }
   ],
   "source": [
    "C = CircularLinkedList()\n",
    "C.addlast(7)\n",
    "C.addlast(4)\n",
    "C.addlast(12)\n",
    "C.addlast(8)\n",
    "C.addlast(3)\n",
    "C.display()\n",
    "print('Size:',len(C))\n",
    "ele = C.removeany(3)\n",
    "C.display()\n",
    "print('Size:',len(C))\n",
    "print('Removed Element:',ele)"
   ]
  }
 ],
 "metadata": {
  "kernelspec": {
   "display_name": "Python 3",
   "language": "python",
   "name": "python3"
  },
  "language_info": {
   "codemirror_mode": {
    "name": "ipython",
    "version": 3
   },
   "file_extension": ".py",
   "mimetype": "text/x-python",
   "name": "python",
   "nbconvert_exporter": "python",
   "pygments_lexer": "ipython3",
   "version": "3.7.6"
  }
 },
 "nbformat": 4,
 "nbformat_minor": 4
}
