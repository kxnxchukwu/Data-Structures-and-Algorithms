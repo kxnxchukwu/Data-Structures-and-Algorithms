{
 "cells": [
  {
   "cell_type": "markdown",
   "metadata": {},
   "source": [
    "# Sorting Algorithms"
   ]
  },
  {
   "cell_type": "markdown",
   "metadata": {},
   "source": [
    "## Selection Sort"
   ]
  },
  {
   "cell_type": "code",
   "execution_count": 1,
   "metadata": {},
   "outputs": [],
   "source": [
    "def selectionsort(A):\n",
    "    n = len(A)\n",
    "    for i in range(n-1):\n",
    "        position = i\n",
    "        for j in range(i+1, n):\n",
    "            if A[j] < A[position]:\n",
    "                position = j\n",
    "        temp = A[i]\n",
    "        A[i] = A[position]\n",
    "        A[position] = temp"
   ]
  },
  {
   "cell_type": "markdown",
   "metadata": {},
   "source": [
    "### Using the Selection Sort Algorithm"
   ]
  },
  {
   "cell_type": "code",
   "execution_count": 2,
   "metadata": {},
   "outputs": [
    {
     "name": "stdout",
     "output_type": "stream",
     "text": [
      "Original Array: [3, 5, 8, 9, 6, 2]\n",
      "Sorted Array: [2, 3, 5, 6, 8, 9]\n"
     ]
    }
   ],
   "source": [
    "A = [3, 5, 8, 9, 6, 2]\n",
    "print('Original Array:', A)\n",
    "selectionsort(A)\n",
    "print('Sorted Array:', A)"
   ]
  },
  {
   "cell_type": "markdown",
   "metadata": {},
   "source": [
    "## Insertion Sort"
   ]
  },
  {
   "cell_type": "code",
   "execution_count": 3,
   "metadata": {},
   "outputs": [],
   "source": [
    "def insertionsort(A):\n",
    "    n = len(A)\n",
    "    for i in range(1,n):\n",
    "        cvalue = A[i]\n",
    "        position = i\n",
    "        while position > 0 and A[position-1] > cvalue:\n",
    "            A[position] = A[position-1]\n",
    "            position = position - 1\n",
    "        A[position] = cvalue"
   ]
  },
  {
   "cell_type": "markdown",
   "metadata": {},
   "source": [
    "### Using the Insertion Sort Algorithm"
   ]
  },
  {
   "cell_type": "code",
   "execution_count": 4,
   "metadata": {},
   "outputs": [
    {
     "name": "stdout",
     "output_type": "stream",
     "text": [
      "Original Array: [3, 5, 8, 9, 6, 2]\n",
      "Sorted Array: [2, 3, 5, 6, 8, 9]\n"
     ]
    }
   ],
   "source": [
    "A = [3,5,8,9,6,2]\n",
    "print('Original Array:', A)\n",
    "insertionsort(A)\n",
    "print('Sorted Array:', A)"
   ]
  },
  {
   "cell_type": "markdown",
   "metadata": {},
   "source": [
    "## Bubble Sort"
   ]
  },
  {
   "cell_type": "code",
   "execution_count": 5,
   "metadata": {},
   "outputs": [],
   "source": [
    "def bubblesort(A):\n",
    "    n = len(A)\n",
    "    for passes in range(n-1,0,-1):\n",
    "        for i in range(passes):\n",
    "            if A[i] > A[i+1]:\n",
    "                temp = A[i]\n",
    "                A[i] = A[i+1]\n",
    "                A[i+1] = temp"
   ]
  },
  {
   "cell_type": "markdown",
   "metadata": {},
   "source": [
    "### Using the Bubble Sort Algorithm"
   ]
  },
  {
   "cell_type": "code",
   "execution_count": 6,
   "metadata": {},
   "outputs": [
    {
     "name": "stdout",
     "output_type": "stream",
     "text": [
      "Original Array: [3, 5, 8, 9, 6, 2]\n",
      "Sorted Array: [2, 3, 5, 6, 8, 9]\n"
     ]
    }
   ],
   "source": [
    "A = [3, 5, 8, 9, 6, 2]\n",
    "print('Original Array:', A)\n",
    "bubblesort(A)\n",
    "print('Sorted Array:', A)"
   ]
  },
  {
   "cell_type": "markdown",
   "metadata": {},
   "source": [
    "## Merge Sort"
   ]
  },
  {
   "cell_type": "code",
   "execution_count": 7,
   "metadata": {},
   "outputs": [],
   "source": [
    "def mergesort(A, left, right):\n",
    "    if left < right:\n",
    "        mid = (left + right) // 2\n",
    "        mergesort(A, left, mid)\n",
    "        mergesort(A, mid+1, right)\n",
    "        merge(A, left, mid, right)\n",
    "\n",
    "def merge(A, left, mid, right):\n",
    "    i = left\n",
    "    j = mid+1\n",
    "    k = left\n",
    "    B = [0] * (right+1)\n",
    "    while i <= mid and j <= right:\n",
    "        if A[i] < A[j]:\n",
    "            B[k] = A[i]\n",
    "            i = i + 1\n",
    "        else:\n",
    "            B[k] = A[j]\n",
    "            j = j + 1\n",
    "        k = k + 1\n",
    "\n",
    "    while i <= mid:\n",
    "        B[k] = A[i]\n",
    "        i = i + 1\n",
    "        k = k + 1\n",
    "\n",
    "    while j <= right:\n",
    "        B[k] = A[j]\n",
    "        j = j + 1\n",
    "        k = k + 1\n",
    "    for x in range(left,right+1):\n",
    "        A[x] = B[x]"
   ]
  },
  {
   "cell_type": "markdown",
   "metadata": {},
   "source": [
    "### Using the Merge Sort Algorithm"
   ]
  },
  {
   "cell_type": "code",
   "execution_count": 8,
   "metadata": {},
   "outputs": [
    {
     "name": "stdout",
     "output_type": "stream",
     "text": [
      "Original Array: [3, 5, 8, 9, 6, 2]\n",
      "Sorted Array: [2, 3, 5, 6, 8, 9]\n"
     ]
    }
   ],
   "source": [
    "A = [3, 5, 8, 9, 6, 2]\n",
    "print('Original Array:', A)\n",
    "mergesort(A,0,len(A)-1)\n",
    "print('Sorted Array:', A)"
   ]
  },
  {
   "cell_type": "markdown",
   "metadata": {},
   "source": [
    "## Shell Sort"
   ]
  },
  {
   "cell_type": "code",
   "execution_count": 9,
   "metadata": {},
   "outputs": [],
   "source": [
    "def shellsort(A):\n",
    "    n = len(A)\n",
    "    gap = n//2\n",
    "    while gap > 0:\n",
    "        i = gap\n",
    "        while i < n:\n",
    "            temp = A[i]\n",
    "            j = i - gap\n",
    "            while j >= 0 and A[j] > temp:\n",
    "                A[j+gap] = A[j]\n",
    "                j = j - gap\n",
    "            A[j+gap] = temp\n",
    "            i = i + 1\n",
    "        gap = gap // 2"
   ]
  },
  {
   "cell_type": "markdown",
   "metadata": {},
   "source": [
    "### Using the Shell Sort Algorithm"
   ]
  },
  {
   "cell_type": "code",
   "execution_count": 10,
   "metadata": {},
   "outputs": [
    {
     "name": "stdout",
     "output_type": "stream",
     "text": [
      "Original Array: [3, 5, 8, 9, 6, 2]\n",
      "Sorted Array: [2, 3, 5, 6, 8, 9]\n"
     ]
    }
   ],
   "source": [
    "A = [3, 5, 8, 9, 6, 2]\n",
    "print('Original Array:', A)\n",
    "shellsort(A)\n",
    "print('Sorted Array:', A)"
   ]
  },
  {
   "cell_type": "markdown",
   "metadata": {},
   "source": [
    "## Quick Sort"
   ]
  },
  {
   "cell_type": "code",
   "execution_count": 11,
   "metadata": {},
   "outputs": [],
   "source": [
    "def partition(A, low, high):\n",
    "    pivot = A[low]\n",
    "    i = low + 1\n",
    "    j = high\n",
    "    while True:\n",
    "        while i <= j and A[i] <= pivot:\n",
    "            i = i + 1\n",
    "        while i <=j and A[j] > pivot:\n",
    "            j = j - 1\n",
    "        if i <= j:\n",
    "            A[i], A[j] = A[j], A[i]\n",
    "        else:\n",
    "            break\n",
    "    A[low], A[j] = A[j], A[low]\n",
    "    return j\n",
    "\n",
    "\n",
    "def quicksort(A, low, high):\n",
    "    if low < high:\n",
    "        pi = partition(A, low, high)\n",
    "        quicksort(A, low, pi - 1)\n",
    "        quicksort(A, pi + 1, high)"
   ]
  },
  {
   "cell_type": "markdown",
   "metadata": {},
   "source": [
    "### Using the Quick Sort Algorithm"
   ]
  },
  {
   "cell_type": "code",
   "execution_count": 12,
   "metadata": {},
   "outputs": [
    {
     "name": "stdout",
     "output_type": "stream",
     "text": [
      "Original Array: [3, 5, 8, 9, 6, 2]\n",
      "Sorted Array: [2, 3, 5, 6, 8, 9]\n"
     ]
    }
   ],
   "source": [
    "A = [3, 5, 8, 9, 6, 2]\n",
    "print('Original Array:', A)\n",
    "quicksort(A, 0, len(A)-1)\n",
    "print('Sorted Array:', A)"
   ]
  },
  {
   "cell_type": "markdown",
   "metadata": {},
   "source": [
    "## Count Sort"
   ]
  },
  {
   "cell_type": "code",
   "execution_count": 13,
   "metadata": {},
   "outputs": [],
   "source": [
    "def countsort(A):\n",
    "    n = len(A)\n",
    "    maxsize = max(A)\n",
    "    carray = [0] * (maxsize + 1)\n",
    "    for i in range(n):\n",
    "        carray[A[i]] = carray[A[i]] + 1\n",
    "    i = 0\n",
    "    j = 0\n",
    "    while i < maxsize + 1:\n",
    "        if carray[i] > 0:\n",
    "            A[j] = i\n",
    "            j = j + 1\n",
    "            carray[i] = carray[i] - 1\n",
    "        else:\n",
    "            i = i + 1"
   ]
  },
  {
   "cell_type": "markdown",
   "metadata": {},
   "source": [
    "### Using the Count Sort Algorithm"
   ]
  },
  {
   "cell_type": "code",
   "execution_count": 14,
   "metadata": {},
   "outputs": [
    {
     "name": "stdout",
     "output_type": "stream",
     "text": [
      "Original Array: [3, 5, 8, 9, 6, 2, 3, 5, 5]\n",
      "Sorted Array: [2, 3, 3, 5, 5, 5, 6, 8, 9]\n"
     ]
    }
   ],
   "source": [
    "A = [3, 5, 8, 9, 6, 2, 3, 5, 5]\n",
    "print('Original Array:', A)\n",
    "countsort(A)\n",
    "print('Sorted Array:', A)"
   ]
  },
  {
   "cell_type": "markdown",
   "metadata": {},
   "source": [
    "## Radix Sort"
   ]
  },
  {
   "cell_type": "code",
   "execution_count": 15,
   "metadata": {},
   "outputs": [],
   "source": [
    "def radixsort(A):\n",
    "    n = len(A)\n",
    "    maxelement = max(A)\n",
    "    digits = len(str(maxelement))\n",
    "    l = []\n",
    "    bins = [l] * 10\n",
    "    for i in range(digits):\n",
    "        for j in range(n):\n",
    "            e = int((A[j] / pow(10, i)) % 10)\n",
    "            if len(bins[e]) > 0:\n",
    "                bins[e].append(A[j])\n",
    "            else:\n",
    "                bins[e] = [A[j]]\n",
    "        k = 0\n",
    "        for x in range(10):\n",
    "            if len(bins[x]) > 0:\n",
    "                for y in range(len(bins[x])):\n",
    "                    A[k] = bins[x].pop(0)\n",
    "                    k = k + 1"
   ]
  },
  {
   "cell_type": "markdown",
   "metadata": {},
   "source": [
    "### Using the Radix Sort Algorithm"
   ]
  },
  {
   "cell_type": "code",
   "execution_count": 16,
   "metadata": {},
   "outputs": [
    {
     "name": "stdout",
     "output_type": "stream",
     "text": [
      "Original Array: [63, 250, 835, 947, 651, 28]\n",
      "Sorted Array: [28, 63, 250, 651, 835, 947]\n"
     ]
    }
   ],
   "source": [
    "A = [63, 250, 835, 947, 651, 28]\n",
    "print('Original Array:', A)\n",
    "radixsort(A)\n",
    "print('Sorted Array:', A)"
   ]
  },
  {
   "cell_type": "markdown",
   "metadata": {},
   "source": [
    "## Python's Built-in Sorting Functions"
   ]
  },
  {
   "cell_type": "markdown",
   "metadata": {},
   "source": [
    "### .sort()"
   ]
  },
  {
   "cell_type": "code",
   "execution_count": 17,
   "metadata": {},
   "outputs": [
    {
     "name": "stdout",
     "output_type": "stream",
     "text": [
      "Original List: [63, 250, 835, 947, 651, 28]\n",
      "Sorted List: [28, 63, 250, 651, 835, 947]\n"
     ]
    }
   ],
   "source": [
    "A = [63,250,835,947,651,28]\n",
    "print('Original List:', A)\n",
    "A.sort()\n",
    "print('Sorted List:', A)"
   ]
  },
  {
   "cell_type": "markdown",
   "metadata": {},
   "source": [
    "### sorted()"
   ]
  },
  {
   "cell_type": "code",
   "execution_count": 18,
   "metadata": {},
   "outputs": [
    {
     "name": "stdout",
     "output_type": "stream",
     "text": [
      "Original List: [63, 250, 835, 947, 651, 28]\n",
      "List-A: [63, 250, 835, 947, 651, 28]\n",
      "List-B: [28, 63, 250, 651, 835, 947]\n"
     ]
    }
   ],
   "source": [
    "A = [63,250,835,947,651,28]\n",
    "print('Original List:', A)\n",
    "B = sorted(A)\n",
    "print('List-A:', A)\n",
    "print('List-B:', B)"
   ]
  },
  {
   "cell_type": "markdown",
   "metadata": {},
   "source": [
    "### .sort() with reverse set to true"
   ]
  },
  {
   "cell_type": "code",
   "execution_count": 19,
   "metadata": {},
   "outputs": [
    {
     "name": "stdout",
     "output_type": "stream",
     "text": [
      "Original List: [63, 250, 835, 947, 651, 28]\n",
      "Sorted List: [947, 835, 651, 250, 63, 28]\n"
     ]
    }
   ],
   "source": [
    "A = [63,250,835,947,651,28]\n",
    "print('Original List:', A)\n",
    "A.sort(reverse=True)\n",
    "print('Sorted List:', A)"
   ]
  }
 ],
 "metadata": {
  "kernelspec": {
   "display_name": "Python 3",
   "language": "python",
   "name": "python3"
  },
  "language_info": {
   "codemirror_mode": {
    "name": "ipython",
    "version": 3
   },
   "file_extension": ".py",
   "mimetype": "text/x-python",
   "name": "python",
   "nbconvert_exporter": "python",
   "pygments_lexer": "ipython3",
   "version": "3.7.6"
  }
 },
 "nbformat": 4,
 "nbformat_minor": 4
}
